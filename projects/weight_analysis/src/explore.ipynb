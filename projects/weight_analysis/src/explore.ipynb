{
 "cells": [
  {
   "cell_type": "code",
   "execution_count": 1,
   "metadata": {},
   "outputs": [],
   "source": [
    "import numpy as np\n",
    "import seaborn as sns\n",
    "import os\n",
    "import pandas as pd\n",
    "import matplotlib.pyplot as plt\n",
    "import torch\n",
    "from tqdm import tqdm\n",
    "import json"
   ]
  },
  {
   "cell_type": "markdown",
   "metadata": {},
   "source": [
    "# Preparation"
   ]
  },
  {
   "cell_type": "code",
   "execution_count": 2,
   "metadata": {},
   "outputs": [],
   "source": [
    "MODEL_FILEDIR = '/scratch/data/TrojAI/image-classification-sep2022-train/models/'\n",
    "METADATA_FILEPATH = '/scratch/data/TrojAI/image-classification-sep2022-train/METADATA.csv'\n",
    "MODEL_ARCH = ['classification:' + arch for arch in ['resnet50', 'vit_base_patch32_224', 'mobilenet_v2']]\n",
    "NUM_MODEL = 288\n",
    "OUTPUT_FILEDIR = '/scratch/jialin/image-classification-sep2022/projects/weight_analysis/extracted_source/'\n",
    "\n",
    "\n",
    "def num_to_model_id(num):\n",
    "    return 'id-' + str(100000000+num)[1:]"
   ]
  },
  {
   "cell_type": "markdown",
   "metadata": {},
   "source": [
    "# Load Metadata"
   ]
  },
  {
   "cell_type": "code",
   "execution_count": 3,
   "metadata": {},
   "outputs": [
    {
     "data": {
      "text/html": [
       "<div>\n",
       "<style scoped>\n",
       "    .dataframe tbody tr th:only-of-type {\n",
       "        vertical-align: middle;\n",
       "    }\n",
       "\n",
       "    .dataframe tbody tr th {\n",
       "        vertical-align: top;\n",
       "    }\n",
       "\n",
       "    .dataframe thead th {\n",
       "        text-align: right;\n",
       "    }\n",
       "</style>\n",
       "<table border=\"1\" class=\"dataframe\">\n",
       "  <thead>\n",
       "    <tr style=\"text-align: right;\">\n",
       "      <th></th>\n",
       "      <th>model_name</th>\n",
       "      <th>converged</th>\n",
       "      <th>nonconverged_reason</th>\n",
       "      <th>master_seed</th>\n",
       "      <th>task_type_level</th>\n",
       "      <th>task_type</th>\n",
       "      <th>source_dataset_level</th>\n",
       "      <th>source_dataset</th>\n",
       "      <th>model_architecture</th>\n",
       "      <th>model_architecture_level</th>\n",
       "      <th>...</th>\n",
       "      <th>trigger_2.trigger_size_restriction_option</th>\n",
       "      <th>trigger_2.polygon_texture_augmentation_level</th>\n",
       "      <th>trigger_2.polygon_texture_augmentation</th>\n",
       "      <th>trigger_2.size_percentage_of_foreground_min</th>\n",
       "      <th>trigger_2.size_percentage_of_foreground_max</th>\n",
       "      <th>trigger_2.min_area</th>\n",
       "      <th>trigger_2.spatial_quadrant_level</th>\n",
       "      <th>trigger_2.spatial_quadrant</th>\n",
       "      <th>trigger_2.options_level</th>\n",
       "      <th>trigger_2.options</th>\n",
       "    </tr>\n",
       "  </thead>\n",
       "  <tbody>\n",
       "    <tr>\n",
       "      <th>0</th>\n",
       "      <td>id-00000000</td>\n",
       "      <td>True</td>\n",
       "      <td>NaN</td>\n",
       "      <td>354103127</td>\n",
       "      <td>0</td>\n",
       "      <td>classification</td>\n",
       "      <td>0</td>\n",
       "      <td>cityscapes</td>\n",
       "      <td>classification:resnet50</td>\n",
       "      <td>3</td>\n",
       "      <td>...</td>\n",
       "      <td>NaN</td>\n",
       "      <td>NaN</td>\n",
       "      <td>NaN</td>\n",
       "      <td>NaN</td>\n",
       "      <td>NaN</td>\n",
       "      <td>NaN</td>\n",
       "      <td>NaN</td>\n",
       "      <td>NaN</td>\n",
       "      <td>NaN</td>\n",
       "      <td>NaN</td>\n",
       "    </tr>\n",
       "    <tr>\n",
       "      <th>1</th>\n",
       "      <td>id-00000001</td>\n",
       "      <td>True</td>\n",
       "      <td>NaN</td>\n",
       "      <td>2049821827</td>\n",
       "      <td>0</td>\n",
       "      <td>classification</td>\n",
       "      <td>0</td>\n",
       "      <td>cityscapes</td>\n",
       "      <td>classification:vit_base_patch32_224</td>\n",
       "      <td>6</td>\n",
       "      <td>...</td>\n",
       "      <td>NaN</td>\n",
       "      <td>NaN</td>\n",
       "      <td>NaN</td>\n",
       "      <td>NaN</td>\n",
       "      <td>NaN</td>\n",
       "      <td>NaN</td>\n",
       "      <td>NaN</td>\n",
       "      <td>NaN</td>\n",
       "      <td>NaN</td>\n",
       "      <td>NaN</td>\n",
       "    </tr>\n",
       "    <tr>\n",
       "      <th>2</th>\n",
       "      <td>id-00000002</td>\n",
       "      <td>True</td>\n",
       "      <td>NaN</td>\n",
       "      <td>74361305</td>\n",
       "      <td>0</td>\n",
       "      <td>classification</td>\n",
       "      <td>0</td>\n",
       "      <td>cityscapes</td>\n",
       "      <td>classification:mobilenet_v2</td>\n",
       "      <td>5</td>\n",
       "      <td>...</td>\n",
       "      <td>NaN</td>\n",
       "      <td>NaN</td>\n",
       "      <td>NaN</td>\n",
       "      <td>NaN</td>\n",
       "      <td>NaN</td>\n",
       "      <td>NaN</td>\n",
       "      <td>NaN</td>\n",
       "      <td>NaN</td>\n",
       "      <td>NaN</td>\n",
       "      <td>NaN</td>\n",
       "    </tr>\n",
       "    <tr>\n",
       "      <th>3</th>\n",
       "      <td>id-00000003</td>\n",
       "      <td>True</td>\n",
       "      <td>NaN</td>\n",
       "      <td>197593124</td>\n",
       "      <td>0</td>\n",
       "      <td>classification</td>\n",
       "      <td>0</td>\n",
       "      <td>cityscapes</td>\n",
       "      <td>classification:resnet50</td>\n",
       "      <td>3</td>\n",
       "      <td>...</td>\n",
       "      <td>NaN</td>\n",
       "      <td>NaN</td>\n",
       "      <td>NaN</td>\n",
       "      <td>NaN</td>\n",
       "      <td>NaN</td>\n",
       "      <td>NaN</td>\n",
       "      <td>NaN</td>\n",
       "      <td>NaN</td>\n",
       "      <td>NaN</td>\n",
       "      <td>NaN</td>\n",
       "    </tr>\n",
       "    <tr>\n",
       "      <th>4</th>\n",
       "      <td>id-00000004</td>\n",
       "      <td>True</td>\n",
       "      <td>NaN</td>\n",
       "      <td>69550395</td>\n",
       "      <td>0</td>\n",
       "      <td>classification</td>\n",
       "      <td>0</td>\n",
       "      <td>cityscapes</td>\n",
       "      <td>classification:resnet50</td>\n",
       "      <td>3</td>\n",
       "      <td>...</td>\n",
       "      <td>NaN</td>\n",
       "      <td>NaN</td>\n",
       "      <td>NaN</td>\n",
       "      <td>NaN</td>\n",
       "      <td>NaN</td>\n",
       "      <td>NaN</td>\n",
       "      <td>NaN</td>\n",
       "      <td>NaN</td>\n",
       "      <td>NaN</td>\n",
       "      <td>NaN</td>\n",
       "    </tr>\n",
       "  </tbody>\n",
       "</table>\n",
       "<p>5 rows × 216 columns</p>\n",
       "</div>"
      ],
      "text/plain": [
       "    model_name  converged  nonconverged_reason  master_seed  task_type_level  \\\n",
       "0  id-00000000       True                  NaN    354103127                0   \n",
       "1  id-00000001       True                  NaN   2049821827                0   \n",
       "2  id-00000002       True                  NaN     74361305                0   \n",
       "3  id-00000003       True                  NaN    197593124                0   \n",
       "4  id-00000004       True                  NaN     69550395                0   \n",
       "\n",
       "        task_type  source_dataset_level source_dataset  \\\n",
       "0  classification                     0     cityscapes   \n",
       "1  classification                     0     cityscapes   \n",
       "2  classification                     0     cityscapes   \n",
       "3  classification                     0     cityscapes   \n",
       "4  classification                     0     cityscapes   \n",
       "\n",
       "                    model_architecture  model_architecture_level  ...  \\\n",
       "0              classification:resnet50                         3  ...   \n",
       "1  classification:vit_base_patch32_224                         6  ...   \n",
       "2          classification:mobilenet_v2                         5  ...   \n",
       "3              classification:resnet50                         3  ...   \n",
       "4              classification:resnet50                         3  ...   \n",
       "\n",
       "  trigger_2.trigger_size_restriction_option  \\\n",
       "0                                       NaN   \n",
       "1                                       NaN   \n",
       "2                                       NaN   \n",
       "3                                       NaN   \n",
       "4                                       NaN   \n",
       "\n",
       "   trigger_2.polygon_texture_augmentation_level  \\\n",
       "0                                           NaN   \n",
       "1                                           NaN   \n",
       "2                                           NaN   \n",
       "3                                           NaN   \n",
       "4                                           NaN   \n",
       "\n",
       "  trigger_2.polygon_texture_augmentation  \\\n",
       "0                                    NaN   \n",
       "1                                    NaN   \n",
       "2                                    NaN   \n",
       "3                                    NaN   \n",
       "4                                    NaN   \n",
       "\n",
       "   trigger_2.size_percentage_of_foreground_min  \\\n",
       "0                                          NaN   \n",
       "1                                          NaN   \n",
       "2                                          NaN   \n",
       "3                                          NaN   \n",
       "4                                          NaN   \n",
       "\n",
       "   trigger_2.size_percentage_of_foreground_max  trigger_2.min_area  \\\n",
       "0                                          NaN                 NaN   \n",
       "1                                          NaN                 NaN   \n",
       "2                                          NaN                 NaN   \n",
       "3                                          NaN                 NaN   \n",
       "4                                          NaN                 NaN   \n",
       "\n",
       "   trigger_2.spatial_quadrant_level  trigger_2.spatial_quadrant  \\\n",
       "0                               NaN                         NaN   \n",
       "1                               NaN                         NaN   \n",
       "2                               NaN                         NaN   \n",
       "3                               NaN                         NaN   \n",
       "4                               NaN                         NaN   \n",
       "\n",
       "   trigger_2.options_level  trigger_2.options  \n",
       "0                      NaN                NaN  \n",
       "1                      NaN                NaN  \n",
       "2                      NaN                NaN  \n",
       "3                      NaN                NaN  \n",
       "4                      NaN                NaN  \n",
       "\n",
       "[5 rows x 216 columns]"
      ]
     },
     "execution_count": 3,
     "metadata": {},
     "output_type": "execute_result"
    }
   ],
   "source": [
    "METADATA = pd.read_csv(METADATA_FILEPATH)\n",
    "METADATA.head()"
   ]
  },
  {
   "cell_type": "markdown",
   "metadata": {},
   "source": [
    "# Feature Extraction"
   ]
  },
  {
   "cell_type": "markdown",
   "metadata": {},
   "source": [
    "## Aggregated Weight"
   ]
  },
  {
   "cell_type": "code",
   "execution_count": 2,
   "metadata": {},
   "outputs": [],
   "source": [
    "def extract_weight(model):\n",
    "    params = []\n",
    "    for param in model.parameters():\n",
    "        if len(param.shape)>2:\n",
    "            axis = tuple(np.arange(len(param.shape)-1).tolist())\n",
    "            params += torch.amax(param, dim=axis).flatten().tolist()\n",
    "            params += torch.mean(param, dim=axis).flatten().tolist()\n",
    "            sub = torch.mean(param, dim=axis).flatten() - torch.median(torch.flatten(param, end_dim=-2), dim=0).values.flatten()\n",
    "            params += sub.tolist()\n",
    "            params += torch.median(torch.flatten(param, end_dim=-2), dim=0).values.flatten().tolist()\n",
    "            params += torch.sum(param, dim=axis).flatten().tolist()\n",
    "            params += (torch.linalg.norm(param, ord='fro', dim=axis).flatten()**2/torch.linalg.norm(param, ord=2, dim=axis).flatten()**2).tolist()\n",
    "        else:\n",
    "            params.append(param.max().tolist())\n",
    "            params.append(param.mean().tolist())\n",
    "            sub = param.mean() - torch.median(param)\n",
    "            params.append(sub.tolist())\n",
    "            params.append(torch.median(param).tolist())\n",
    "            params.append(param.sum().tolist())\n",
    "            params.append((torch.linalg.norm(param.reshape(param.shape[0], -1), ord='fro')**2/torch.linalg.norm(param.reshape(param.shape[0], -1), ord=2)**2).tolist())\n",
    "    return np.asarray(params)"
   ]
  },
  {
   "cell_type": "markdown",
   "metadata": {},
   "source": [
    "## Weight from round-10"
   ]
  },
  {
   "cell_type": "code",
   "execution_count": 25,
   "metadata": {},
   "outputs": [],
   "source": [
    "def _get_weight_features(model):\n",
    "    params = []\n",
    "    for param in model.parameters():\n",
    "        if len(param.shape)>2:\n",
    "            axis = tuple(np.arange(len(param.shape)-1).tolist())\n",
    "            params += torch.amax(param, dim=axis).flatten().tolist()\n",
    "            params += torch.mean(param, dim=axis).flatten().tolist()\n",
    "            sub = torch.mean(param, dim=axis).flatten() - torch.median(torch.flatten(param, end_dim=-2), dim=0).values.flatten()\n",
    "            params += sub.tolist()\n",
    "            params += torch.median(torch.flatten(param, end_dim=-2), dim=0).values.flatten().tolist()\n",
    "            params += torch.sum(param, dim=axis).flatten().tolist()\n",
    "            # params += (torch.linalg.norm(param, ord='fro', dim=axis).flatten()**2/torch.linalg.norm(param, ord=2, dim=axis).flatten()**2).tolist()\n",
    "    return np.asarray(params)"
   ]
  },
  {
   "cell_type": "markdown",
   "metadata": {},
   "source": [
    "## Eigen Value"
   ]
  },
  {
   "cell_type": "code",
   "execution_count": 3,
   "metadata": {},
   "outputs": [],
   "source": [
    "def extract_eigen(model):\n",
    "    params = []\n",
    "    num_param_per_layer = []\n",
    "    min_shape = 1\n",
    "    for param in model.parameters():\n",
    "        if len(param.shape) > min_shape:\n",
    "            reshaped_param = param.reshape(param.shape[0], -1)\n",
    "            singular_values = torch.linalg.svd(reshaped_param, False).S\n",
    "            squared_singular_values = torch.square(singular_values)\n",
    "            ssv = squared_singular_values.tolist()\n",
    "            params += ssv\n",
    "            num_param_per_layer.append(len(ssv))\n",
    "    return np.asarray(params), np.asarray(num_param_per_layer)"
   ]
  },
  {
   "cell_type": "code",
   "execution_count": 10,
   "metadata": {},
   "outputs": [],
   "source": [
    "def explore_eigen(model):\n",
    "    params = []\n",
    "    num_param_per_layer = []\n",
    "    min_shape = 2\n",
    "    for param in model.parameters():\n",
    "        if len(param.shape) > min_shape:\n",
    "            if param.shape[-1] == param.shape[-2]:\n",
    "                reshaped_param = param\n",
    "            else:\n",
    "                reshaped_param = param.reshape(param.shape[0], -1)\n",
    "            singular_values = torch.linalg.svd(reshaped_param, False).S\n",
    "            squared_singular_values = torch.square(singular_values)\n",
    "            ssv = squared_singular_values.flatten().tolist()\n",
    "            params += ssv\n",
    "            num_param_per_layer.append(len(ssv))\n",
    "    return np.asarray(params), np.asarray(num_param_per_layer)"
   ]
  },
  {
   "cell_type": "code",
   "execution_count": 7,
   "metadata": {},
   "outputs": [],
   "source": [
    "def extract_optimal_layer_eigen(model, optimal_layers=[]):\n",
    "    eigens = []\n",
    "    min_shape, layer_num = 1, 0\n",
    "    for param in model.parameters():\n",
    "        if len(param.shape) > min_shape:\n",
    "            layer_num += 1\n",
    "            if layer_num in optimal_layers:\n",
    "                reshaped_param = param.reshape(param.shape[0], -1)\n",
    "                singular_values = torch.linalg.svd(reshaped_param, False).S\n",
    "                squared_singular_values = torch.square(singular_values)\n",
    "                ssv = squared_singular_values.tolist()\n",
    "                eigens += ssv\n",
    "    eigens = np.array_split(eigens, 120)\n",
    "    params = []\n",
    "    for eig in eigens:\n",
    "        if eig.shape[-1] != 0:\n",
    "            params.append(eig.max())\n",
    "            params.append(eig.mean())\n",
    "            params.append((eig.mean() - np.median(eig)))\n",
    "            params.append(np.median(eig))\n",
    "            params.append(eig.sum())\n",
    "    return np.stack(params)"
   ]
  },
  {
   "cell_type": "markdown",
   "metadata": {},
   "source": [
    "## Directly load without saving locally"
   ]
  },
  {
   "cell_type": "code",
   "execution_count": null,
   "metadata": {},
   "outputs": [],
   "source": [
    "optimal_layers = {'classification:resnet50': [48, 49], 'classification:vit_base_patch32_224': [2, 25], 'classification:mobilenet_v2': [35,  7]}\n",
    "weight_with_eigen = {ma:[] for ma in MODEL_ARCH}\n",
    "for num in tqdm(range(NUM_MODEL)):\n",
    "    model_id = num_to_model_id(num)\n",
    "    model_filepath = os.path.join(MODEL_FILEDIR, model_id, 'model.pt')\n",
    "    with torch.no_grad():\n",
    "        model = torch.load(model_filepath)\n",
    "    metadata_of_model = METADATA[METADATA['model_name'] == model_id]\n",
    "    model_arch = metadata_of_model['model_architecture'].item()\n",
    "    weights = extract_weight(model)\n",
    "    eigens = extract_optimal_layer_eigen(model, optimal_layers=optimal_layers[model_arch])\n",
    "    weight_with_eigen[model_arch].append(np.append(weights[:-1], eigens))"
   ]
  },
  {
   "cell_type": "code",
   "execution_count": 11,
   "metadata": {},
   "outputs": [
    {
     "name": "stderr",
     "output_type": "stream",
     "text": [
      "100%|██████████| 288/288 [4:02:39<00:00, 50.55s/it]  \n"
     ]
    }
   ],
   "source": [
    "from itertools import product\n",
    "\n",
    "eig_df = {ma+eol:[] for ma, eol in list(product(MODEL_ARCH, ['_eigen', '_layer', '_label']))}\n",
    "for num in tqdm(range(NUM_MODEL)):\n",
    "    model_id = num_to_model_id(num)\n",
    "    model_filepath = os.path.join(MODEL_FILEDIR, model_id, 'model.pt')\n",
    "    with torch.no_grad():\n",
    "        model = torch.load(model_filepath)\n",
    "    params, pnum_per_layer = explore_eigen(model)\n",
    "    metadata_of_model = METADATA[METADATA['model_name'] == model_id]\n",
    "    model_arch = metadata_of_model['model_architecture'].item()\n",
    "    poisoned = metadata_of_model['poisoned'].item()\n",
    "    eig_df[model_arch+'_eigen'].append(params)\n",
    "    eig_df[model_arch+'_layer'].append(pnum_per_layer)\n",
    "    eig_df[model_arch+'_label'].append(poisoned)"
   ]
  },
  {
   "cell_type": "code",
   "execution_count": 12,
   "metadata": {},
   "outputs": [],
   "source": [
    "for k, v in eig_df.items():\n",
    "    np.save(os.path.join(OUTPUT_FILEDIR, 'new_eigens', f'{k}.npy'), np.asarray(v))"
   ]
  },
  {
   "cell_type": "code",
   "execution_count": 4,
   "metadata": {},
   "outputs": [
    {
     "ename": "NameError",
     "evalue": "name 'METADATA' is not defined",
     "output_type": "error",
     "traceback": [
      "\u001b[0;31m---------------------------------------------------------------------------\u001b[0m",
      "\u001b[0;31mNameError\u001b[0m                                 Traceback (most recent call last)",
      "Cell \u001b[0;32mIn [4], line 3\u001b[0m\n\u001b[1;32m      1\u001b[0m \u001b[39mfrom\u001b[39;00m \u001b[39mitertools\u001b[39;00m \u001b[39mimport\u001b[39;00m product\n\u001b[0;32m----> 3\u001b[0m \u001b[39mdef\u001b[39;00m \u001b[39mload_model_params_to_df\u001b[39m(metadata\u001b[39m=\u001b[39mMETADATA, extraction_method\u001b[39m=\u001b[39mextract_weight, model_filedir\u001b[39m=\u001b[39mMODEL_FILEDIR):\n\u001b[1;32m      4\u001b[0m     df_by_model_type \u001b[39m=\u001b[39m {model_arch:[] \u001b[39mfor\u001b[39;00m model_arch \u001b[39min\u001b[39;00m MODEL_ARCH}\n\u001b[1;32m      6\u001b[0m     \u001b[39mfor\u001b[39;00m num \u001b[39min\u001b[39;00m tqdm(\u001b[39mrange\u001b[39m(NUM_MODEL)):\n",
      "\u001b[0;31mNameError\u001b[0m: name 'METADATA' is not defined"
     ]
    }
   ],
   "source": [
    "from itertools import product\n",
    "\n",
    "def load_model_params_to_df(metadata=METADATA, extraction_method=extract_weight, model_filedir=MODEL_FILEDIR):\n",
    "    df_by_model_type = {model_arch:[] for model_arch in MODEL_ARCH}\n",
    "\n",
    "    for num in tqdm(range(NUM_MODEL)):\n",
    "        model_id = num_to_model_id(num)\n",
    "        model_filepath = os.path.join(model_filedir, model_id, 'model.pt')\n",
    "        with torch.no_grad():\n",
    "            model = torch.load(model_filepath)\n",
    "        metadata_of_model = metadata[metadata['model_name'] == model_id]\n",
    "        model_arch = metadata_of_model['model_architecture'].item()\n",
    "        poisoned = metadata_of_model['poisoned'].item()\n",
    "        if extraction_method == extract_weight or _get_weight_features:\n",
    "            params = extraction_method(model).tolist()\n",
    "        elif extraction_method == extract_eigen:\n",
    "            params, pnum_per_layer = extraction_method(model)\n",
    "            pnum_df = pd.DataFrame([pnum_per_layer])\n",
    "            pnum_df['model_num'] = model_id\n",
    "            pnum_kname = model_arch+'_'+'pnum'\n",
    "            if pnum_kname in df_by_model_type:\n",
    "                df_by_model_type[pnum_kname].append(pnum_df)\n",
    "            else:\n",
    "                df_by_model_type[pnum_kname] = [pnum_df]\n",
    "\n",
    "        df = pd.DataFrame([params])\n",
    "        df['model_num'] = model_id\n",
    "        df['model_arch'] = model_arch\n",
    "        df['poisoned'] = poisoned\n",
    "\n",
    "        df_by_model_type[model_arch].append(df)\n",
    "    \n",
    "    for k, v in df_by_model_type.items():\n",
    "        dataframe = pd.concat(v)\n",
    "        df_by_model_type[k] = dataframe\n",
    "    return df_by_model_type\n"
   ]
  },
  {
   "cell_type": "code",
   "execution_count": 30,
   "metadata": {},
   "outputs": [
    {
     "name": "stderr",
     "output_type": "stream",
     "text": [
      "100%|██████████| 288/288 [07:50<00:00,  1.63s/it]\n"
     ]
    }
   ],
   "source": [
    "df_by_model_type = load_model_params_to_df(extraction_method=_get_weight_features)"
   ]
  },
  {
   "cell_type": "code",
   "execution_count": 31,
   "metadata": {},
   "outputs": [
    {
     "name": "stdout",
     "output_type": "stream",
     "text": [
      "classification:resnet50 -- (96, 458)\n",
      "classification:vit_base_patch32_224 -- (96, 7843)\n",
      "classification:mobilenet_v2 -- (96, 443)\n"
     ]
    }
   ],
   "source": [
    "for k, v in df_by_model_type.items():\n",
    "    print(f'{k} -- {v.shape}')"
   ]
  },
  {
   "cell_type": "code",
   "execution_count": 13,
   "metadata": {},
   "outputs": [],
   "source": [
    "for k, v, in df_by_model_type.items():\n",
    "    if 'pnum' in k:\n",
    "        v.to_csv(os.path.join(OUTPUT_FILEDIR, k[15:]+'.csv'))\n",
    "    else:\n",
    "        v.to_csv(os.path.join(OUTPUT_FILEDIR, k[15:]+'_'+'eigen.csv'))"
   ]
  },
  {
   "cell_type": "markdown",
   "metadata": {},
   "source": [
    "# Feature Mixup"
   ]
  },
  {
   "cell_type": "code",
   "execution_count": 16,
   "metadata": {},
   "outputs": [],
   "source": [
    "weight_eigen_filedir = '/scratch/jialin/image-classification-sep2022/projects/weight_analysis/for_container/learned_parameters'\n",
    "weight_eigen_dict = {}\n",
    "for ma in MODEL_ARCH:\n",
    "    X = np.load(os.path.join(weight_eigen_filedir, f'train_X_{ma[15:]}.npy'))\n",
    "    y = np.load(os.path.join(weight_eigen_filedir, f'train_y_{ma[15:]}.npy'))\n",
    "    weight_eigen_dict[ma] = (X, y)"
   ]
  },
  {
   "cell_type": "code",
   "execution_count": 17,
   "metadata": {},
   "outputs": [
    {
     "name": "stdout",
     "output_type": "stream",
     "text": [
      "(96, 1248) (96,)\n",
      "(96, 1184) (96,)\n",
      "(96, 1225) (96,)\n"
     ]
    }
   ],
   "source": [
    "for ma in MODEL_ARCH:\n",
    "    print(weight_eigen_dict[ma][0].shape, weight_eigen_dict[ma][1].shape)"
   ]
  },
  {
   "cell_type": "code",
   "execution_count": 18,
   "metadata": {},
   "outputs": [],
   "source": [
    "def mixup_data(X, y, lam=0, lo=.6, hi=.95):\n",
    "    assert len(y.shape) == 1 and len(X.shape) == 2\n",
    "    lam = np.random.uniform(lo, hi)\n",
    "    mixup_ind = {'trojan': np.nonzero(y), \n",
    "                  'clean': np.nonzero(y == 0)}\n",
    "    ret_X, ret_y = [X], [y]\n",
    "    for cot in ['trojan', 'clean']:\n",
    "        ind = mixup_ind[cot][0]\n",
    "        mixed_X, mixed_y = X[ind, :], y[ind]\n",
    "        mixed_ind = np.random.permutation(ind.shape[0])\n",
    "        ret_X.append(lam * mixed_X + (1-lam) * mixed_X[mixed_ind, :])\n",
    "        ret_X.append(lam * mixed_X[mixed_ind, :] + (1-lam) * mixed_X)\n",
    "        ret_y.append(mixed_y)\n",
    "        ret_y.append(mixed_y)\n",
    "    ret_X = np.concatenate(ret_X, axis=0)\n",
    "    ret_y = np.concatenate(ret_y)\n",
    "    return ret_X, ret_y, lam"
   ]
  },
  {
   "cell_type": "code",
   "execution_count": null,
   "metadata": {},
   "outputs": [],
   "source": [
    "LAMBDA_DICT = {ma:lmbda for ma, lmbda in zip(MODEL_ARCH, (0.6737022622237678, 0.7903979831170203, 0.85))}\n",
    "EXPORTED_PATH = '/scratch/jialin/image-classification-sep2022/projects/weight_analysis/extracted_source/mixedup_weight_eigen_stats/'\n",
    "for ma in MODEL_ARCH[2]:\n",
    "    X, y, lmbda = mixup_data(*weight_eigen_dict[ma], lam = LAMBDA_DICT[ma])\n",
    "    print(X.shape, y.shape, lmbda)\n",
    "    np.save(os.path.join(EXPORTED_PATH, f'train_X_{ma[15:]}.npy'), X)\n",
    "    np.save(os.path.join(EXPORTED_PATH, f'train_y_{ma[15:]}.npy'), y)"
   ]
  },
  {
   "cell_type": "code",
   "execution_count": 34,
   "metadata": {},
   "outputs": [
    {
     "name": "stderr",
     "output_type": "stream",
     "text": [
      "100%|██████████| 1/1 [02:02<00:00, 122.39s/it]"
     ]
    },
    {
     "name": "stdout",
     "output_type": "stream",
     "text": [
      "mobilenet_v2: cen - 0.4431493080578334, acc - 0.7939999999999999\n"
     ]
    },
    {
     "name": "stderr",
     "output_type": "stream",
     "text": [
      "\n"
     ]
    }
   ],
   "source": [
    "from sklearn.metrics import log_loss\n",
    "from sklearn.ensemble import GradientBoostingClassifier\n",
    "from sklearn.model_selection import train_test_split\n",
    "\n",
    "clf_dict = {MODEL_ARCH[0]: GradientBoostingClassifier(learning_rate=0.015, n_estimators=900, max_depth=3, min_samples_split=24, min_samples_leaf=16, max_features=120),\n",
    "            MODEL_ARCH[1]: GradientBoostingClassifier(learning_rate=0.01, n_estimators=750, max_depth=3, min_samples_split=40, min_samples_leaf=4, max_features=32),\n",
    "            MODEL_ARCH[2]: GradientBoostingClassifier(learning_rate=0.011, n_estimators=500, max_depth=4, min_samples_split=34, min_samples_leaf=16, max_features=96)}\n",
    "\n",
    "best_cen_X, best_cen_y = None, None\n",
    "best_cen = 1e8\n",
    "N = 50\n",
    "result_dict = {}\n",
    "for ma in tqdm(MODEL_ARCH[2:]):\n",
    "    all_cross_entropy, all_accuracy, all_lambd = [], [], []\n",
    "    for i in range(N):\n",
    "        X_train, X_test, y_train, y_test = train_test_split(*weight_eigen_dict[ma], test_size=.2)\n",
    "        X_train, y_train, lambd = mixup_data(X_train, y_train, lo=.35, hi=.95)\n",
    "        clf = clf_dict[ma]\n",
    "        clf.set_params(random_state=i)            \n",
    "        clf.fit(X_train, y_train)\n",
    "\n",
    "        ll, sc = log_loss(y_test, clf.predict_proba(X_test), eps=.01), clf.score(X_test, y_test)\n",
    "        all_cross_entropy.append(ll)\n",
    "        all_accuracy.append(sc)\n",
    "        all_lambd.append(lambd)\n",
    "\n",
    "        if ll < best_cen:\n",
    "            best_cen = ll\n",
    "            X_test, y_test, _ = mixup_data(X_test, y_test, lam=lambd)\n",
    "            best_cen_X, best_cen_y = np.concatenate([X_train, X_test], axis=0), np.concatenate([y_train, y_test], axis=0)\n",
    "        \n",
    "    result_dict[ma] = (all_cross_entropy, all_accuracy, all_lambd)\n",
    "    print(f'{ma[15:]}: cen - {np.mean(all_cross_entropy)}, acc - {np.mean(all_accuracy)}')"
   ]
  },
  {
   "cell_type": "code",
   "execution_count": 38,
   "metadata": {},
   "outputs": [
    {
     "data": {
      "text/plain": [
       "((288, 1225), (288,))"
      ]
     },
     "execution_count": 38,
     "metadata": {},
     "output_type": "execute_result"
    }
   ],
   "source": [
    "best_cen_X.shape, best_cen_y.shape"
   ]
  },
  {
   "cell_type": "code",
   "execution_count": 43,
   "metadata": {},
   "outputs": [],
   "source": [
    "np.save('/scratch/jialin/image-classification-sep2022/projects/weight_analysis/for_container/best_cen_X.npy', best_cen_X)\n",
    "np.save('/scratch/jialin/image-classification-sep2022/projects/weight_analysis/for_container/best_cen_y.npy', best_cen_y)"
   ]
  },
  {
   "cell_type": "code",
   "execution_count": 37,
   "metadata": {},
   "outputs": [
    {
     "data": {
      "text/plain": [
       "(0.23564567292736122, 0.95, 0.23564567292736122)"
      ]
     },
     "execution_count": 37,
     "metadata": {},
     "output_type": "execute_result"
    }
   ],
   "source": [
    "result_dict[MODEL_ARCH[2]][0][29], result_dict[MODEL_ARCH[2]][1][29], best_cen"
   ]
  },
  {
   "cell_type": "code",
   "execution_count": 35,
   "metadata": {},
   "outputs": [
    {
     "data": {
      "text/plain": [
       "array([29, 10, 44, 41, 30, 32, 28,  4,  8, 46,  7, 42, 16, 11,  1, 49, 40,\n",
       "        3, 18, 47, 27,  9, 12, 45, 17, 21, 15,  6, 35, 23, 24, 13,  0, 22,\n",
       "       33, 38,  5, 34, 48, 14, 26, 39, 37, 31, 19,  2, 43, 20, 25, 36])"
      ]
     },
     "execution_count": 35,
     "metadata": {},
     "output_type": "execute_result"
    }
   ],
   "source": [
    "np.argsort(result_dict[MODEL_ARCH[2]][0])"
   ]
  },
  {
   "cell_type": "code",
   "execution_count": 36,
   "metadata": {},
   "outputs": [
    {
     "data": {
      "text/plain": [
       "array([28, 29, 10, 17, 44, 30, 41,  4,  0,  9, 32, 12,  8, 18,  7, 45, 46,\n",
       "       47, 26,  6, 15,  3, 16,  2, 49, 34, 39, 37, 14,  1, 42, 40, 38, 35,\n",
       "       11, 24, 33, 27, 21, 22, 13, 23, 36, 25, 19,  5, 20, 48, 31, 43])"
      ]
     },
     "execution_count": 36,
     "metadata": {},
     "output_type": "execute_result"
    }
   ],
   "source": [
    "np.argsort(result_dict[MODEL_ARCH[2]][1])[::-1]"
   ]
  },
  {
   "cell_type": "code",
   "execution_count": 12,
   "metadata": {},
   "outputs": [
    {
     "name": "stderr",
     "output_type": "stream",
     "text": [
      " 33%|███▎      | 1/3 [01:14<02:28, 74.26s/it]"
     ]
    },
    {
     "name": "stdout",
     "output_type": "stream",
     "text": [
      "resnet50: cen - 0.33471937046065053, acc - 0.853\n"
     ]
    },
    {
     "name": "stderr",
     "output_type": "stream",
     "text": [
      " 67%|██████▋   | 2/3 [01:28<00:38, 38.75s/it]"
     ]
    },
    {
     "name": "stdout",
     "output_type": "stream",
     "text": [
      "vit_base_patch32_224: cen - 0.43177496610104205, acc - 0.809\n"
     ]
    },
    {
     "name": "stderr",
     "output_type": "stream",
     "text": [
      "100%|██████████| 3/3 [01:40<00:00, 33.44s/it]"
     ]
    },
    {
     "name": "stdout",
     "output_type": "stream",
     "text": [
      "mobilenet_v2: cen - 0.5607166100285954, acc - 0.698\n"
     ]
    },
    {
     "name": "stderr",
     "output_type": "stream",
     "text": [
      "\n"
     ]
    }
   ],
   "source": [
    "N = 50\n",
    "non_mixup_result_dict = {}\n",
    "for ma in tqdm(MODEL_ARCH):\n",
    "    cen, acc = bootstrap_performance(*weight_eigen_dict[ma], clf_dict[ma], n=N)\n",
    "    non_mixup_result_dict[ma] = (cen, acc)\n",
    "    print(f'{ma[15:]}: cen - {np.mean(cen)}, acc - {np.mean(acc)}')"
   ]
  },
  {
   "cell_type": "code",
   "execution_count": 38,
   "metadata": {},
   "outputs": [
    {
     "data": {
      "image/png": "[encoded data removed]",
      "text/plain": [
       "<Figure size 640x480 with 1 Axes>"
      ]
     },
     "metadata": {},
     "output_type": "display_data"
    }
   ],
   "source": [
    "fig, ax = plt.subplots()\n",
    "bar1 = ax.bar(np.arange(3)-.2, [np.mean(result_dict[ma][0]) for ma in MODEL_ARCH], width=0.4, label='mixup_features')\n",
    "bar2 = ax.bar(np.arange(3)+.2, [np.mean(non_mixup_result_dict[ma][0]) for ma in MODEL_ARCH], width=0.4, label='non_mixup_features')\n",
    "ax.set_xticks(np.arange(3), [ma[15:] for ma in MODEL_ARCH])\n",
    "ax.legend()\n",
    "ax.bar_label(bar1, padding=1)\n",
    "ax.bar_label(bar2, padding=1)\n",
    "plt.suptitle('Cross Entropy Difference between mixup and non-mixup features')\n",
    "fig.tight_layout()\n",
    "plt.show()"
   ]
  },
  {
   "cell_type": "markdown",
   "metadata": {},
   "source": [
    "# Visualization"
   ]
  },
  {
   "cell_type": "code",
   "execution_count": 4,
   "metadata": {},
   "outputs": [],
   "source": [
    "from sklearn.metrics import log_loss\n",
    "from sklearn.ensemble import GradientBoostingClassifier\n",
    "from sklearn.model_selection import train_test_split\n",
    "from sklearn.model_selection import GridSearchCV\n",
    "\n",
    "def bootstrap_performance(X, y, clf, n=10, test_size=.2, eps=.01):\n",
    "    all_cross_entropy, all_accuracy = [], []\n",
    "    for i in range(n):\n",
    "        X_train, X_test, y_train, y_test = train_test_split(X, y, test_size=test_size, random_state=i)\n",
    "        \n",
    "        clf.set_params(random_state=i)            \n",
    "        clf.fit(X_train, y_train)\n",
    "        \n",
    "        all_cross_entropy.append(log_loss(y_test, clf.predict_proba(X_test), eps=eps))\n",
    "        all_accuracy.append(clf.score(X_test, y_test))\n",
    "    return all_cross_entropy, all_accuracy"
   ]
  },
  {
   "cell_type": "markdown",
   "metadata": {},
   "source": [
    "### Eigen Value Analysis"
   ]
  },
  {
   "cell_type": "code",
   "execution_count": 5,
   "metadata": {},
   "outputs": [],
   "source": [
    "layer_data = {ma: np.cumsum(pd.read_csv(os.path.join(OUTPUT_FILEDIR, f'{ma[15:]}_pnum.csv')).iloc[:, 1:-1].to_numpy(), axis=1)[0][:-1] for ma in MODEL_ARCH}\n",
    "eigen_data = {ma: pd.read_csv(os.path.join(OUTPUT_FILEDIR, f'{ma[15:]}_eigen.csv')).iloc[:, 1:].to_numpy() for ma in MODEL_ARCH}\n",
    "label_data = {ma: pd.read_csv(os.path.join(OUTPUT_FILEDIR, f'{ma[15:]}_eigen.csv'))['poisoned'] for ma in MODEL_ARCH}\n",
    "split_eigen_data = {ma: np.split(eigen_data[ma], layer_data[ma], axis=1)[:-1] for ma in MODEL_ARCH}"
   ]
  },
  {
   "cell_type": "code",
   "execution_count": 7,
   "metadata": {},
   "outputs": [],
   "source": [
    "NEW_EIGEN_FILEDIR = os.path.join(OUTPUT_FILEDIR, 'new_eigens')\n",
    "layer_data = {ma: np.cumsum(np.load(os.path.join(NEW_EIGEN_FILEDIR, f'{ma}_layer.npy')), axis=1)[0][:-1] for ma in MODEL_ARCH}\n",
    "eigen_data = {ma: np.load(os.path.join(NEW_EIGEN_FILEDIR, f'{ma}_eigen.npy')) for ma in MODEL_ARCH}\n",
    "label_data = {ma: np.load(os.path.join(NEW_EIGEN_FILEDIR, f'{ma}_label.npy')) for ma in MODEL_ARCH}\n",
    "split_eigen_data = {ma: np.split(eigen_data[ma], layer_data[ma], axis=1)[:-1] for ma in MODEL_ARCH}"
   ]
  },
  {
   "cell_type": "code",
   "execution_count": 6,
   "metadata": {},
   "outputs": [],
   "source": [
    "agg_eigen_data = {ma: np.concatenate([np.stack([sed.max(axis=1), sed.mean(axis=1), sed.mean(axis=1)-np.median(sed, axis=1), np.median(sed, axis=1), sed.sum(axis=1)], axis=1) for sed in split_eigen_data[ma]], axis=1) for ma in MODEL_ARCH}"
   ]
  },
  {
   "cell_type": "code",
   "execution_count": 7,
   "metadata": {},
   "outputs": [
    {
     "name": "stdout",
     "output_type": "stream",
     "text": [
      "(96, 265)\n",
      "(96, 255)\n",
      "(96, 260)\n"
     ]
    }
   ],
   "source": [
    "for ma in MODEL_ARCH:\n",
    "    print(agg_eigen_data[ma].shape)"
   ]
  },
  {
   "cell_type": "code",
   "execution_count": 6,
   "metadata": {},
   "outputs": [],
   "source": [
    "with open(os.path.join(OUTPUT_FILEDIR, 'eigen_val_result.json'), 'r') as outfile:\n",
    "    result = json.load(outfile)"
   ]
  },
  {
   "cell_type": "code",
   "execution_count": 7,
   "metadata": {},
   "outputs": [],
   "source": [
    "optimal_layers, optimal_eigen_data = {}, {}\n",
    "for ma in MODEL_ARCH:\n",
    "    acc = [res[1] for res in result[ma]]\n",
    "    layers = np.argsort(acc)[::-1][:2]\n",
    "    optimal_layers[ma] = layers\n",
    "    opt_split_data = np.array_split(np.concatenate([split_eigen_data[ma][layer] for layer in layers], axis=1), 120, axis=1)\n",
    "    params = []\n",
    "    for param in opt_split_data:\n",
    "        if param.shape[-1] != 0:\n",
    "            params.append(param.max(axis=1))\n",
    "            params.append(param.mean(axis=1))\n",
    "            params.append((param.mean(axis=1) - np.median(param, axis=1)))\n",
    "            params.append(np.median(param, axis=1))\n",
    "            params.append(param.sum(axis=1))\n",
    "    optimal_eigen_data[ma] = np.stack(params, axis=1)"
   ]
  },
  {
   "cell_type": "code",
   "execution_count": 39,
   "metadata": {},
   "outputs": [
    {
     "name": "stdout",
     "output_type": "stream",
     "text": [
      "(96, 600)\n",
      "(96, 600)\n",
      "(96, 525)\n"
     ]
    }
   ],
   "source": [
    "for ma in MODEL_ARCH:\n",
    "    print(optimal_eigen_data[ma].shape)"
   ]
  },
  {
   "cell_type": "code",
   "execution_count": 22,
   "metadata": {},
   "outputs": [
    {
     "data": {
      "text/plain": [
       "{'classification:resnet50': array([48, 49]),\n",
       " 'classification:vit_base_patch32_224': array([ 2, 25]),\n",
       " 'classification:mobilenet_v2': array([35,  7])}"
      ]
     },
     "execution_count": 22,
     "metadata": {},
     "output_type": "execute_result"
    }
   ],
   "source": [
    "optimal_layers"
   ]
  },
  {
   "cell_type": "code",
   "execution_count": null,
   "metadata": {},
   "outputs": [],
   "source": [
    "N = 30\n",
    "eigen_per_layer_result = {ma:[] for ma in MODEL_ARCH}\n",
    "for ma in MODEL_ARCH:\n",
    "    eigen_per_layer = split_eigen_data[ma]\n",
    "    label = label_data[ma]\n",
    "    result_per_layer = []\n",
    "    for epl in tqdm(eigen_per_layer):\n",
    "        cen, acc = bootstrap_performance(epl, label, clf_dict[ma], n=N)\n",
    "        eigen_per_layer_result[ma].append((np.mean(cen), np.mean(acc)))"
   ]
  },
  {
   "cell_type": "code",
   "execution_count": 26,
   "metadata": {},
   "outputs": [],
   "source": [
    "with open(os.path.join(NEW_EIGEN_FILEDIR, 'eigen_val_result.json'), 'w') as outfile:\n",
    "    json.dump(eigen_per_layer_result, outfile)"
   ]
  },
  {
   "cell_type": "code",
   "execution_count": 6,
   "metadata": {},
   "outputs": [
    {
     "data": {
      "image/png": "[encoded data removed]",
      "text/plain": [
       "<Figure size 4000x800 with 3 Axes>"
      ]
     },
     "metadata": {},
     "output_type": "display_data"
    }
   ],
   "source": [
    "# sns.set(rc={'figure.figsize':(16,30)});\n",
    "NEW_EIGEN_FILEDIR = os.path.join(OUTPUT_FILEDIR, 'new_eigens')\n",
    "with open(os.path.join(NEW_EIGEN_FILEDIR, 'eigen_val_result.json'), 'r') as outfile:\n",
    "    result = json.load(outfile)\n",
    "fig, axs = plt.subplots(ncols=3, figsize=(40, 8))\n",
    "for ind, ax in enumerate(axs):\n",
    "    df = pd.DataFrame(result[MODEL_ARCH[ind]])\n",
    "    df.columns = ['mean_cen', 'mean_acc']\n",
    "    sns.scatterplot(data=df, ax=ax);\n",
    "    ax.set_title(MODEL_ARCH[ind]+' models')"
   ]
  },
  {
   "cell_type": "markdown",
   "metadata": {},
   "source": [
    "# Tune/Train Models"
   ]
  },
  {
   "cell_type": "code",
   "execution_count": 4,
   "metadata": {},
   "outputs": [],
   "source": [
    "OUTPUT_FILEDIR = '/scratch/jialin/image-classification-sep2022/projects/weight_analysis/extracted_source/'\n",
    "weights = {ma: pd.read_csv(os.path.join(OUTPUT_FILEDIR, ma[15:]+'_weight.csv')).iloc[:, 1:-3].to_numpy() for ma in MODEL_ARCH}\n",
    "weights_label = {ma: pd.read_csv(os.path.join(OUTPUT_FILEDIR, ma[15:]+'_weight.csv'))['poisoned'] for ma in MODEL_ARCH}"
   ]
  },
  {
   "cell_type": "code",
   "execution_count": 9,
   "metadata": {},
   "outputs": [
    {
     "name": "stdout",
     "output_type": "stream",
     "text": [
      "(96, 1231)\n",
      "(96, 1167)\n",
      "(96, 1208)\n"
     ]
    }
   ],
   "source": [
    "for ma in MODEL_ARCH:\n",
    "    print(np.concatenate([weights[ma], agg_eigen_data[ma]], axis=1).shape)"
   ]
  },
  {
   "cell_type": "code",
   "execution_count": 34,
   "metadata": {},
   "outputs": [],
   "source": [
    "weights_3d = {ma: df_by_model_type[ma].iloc[:, :-3].to_numpy() for ma in MODEL_ARCH}\n",
    "weights_3d_label = {ma: df_by_model_type[ma]['poisoned'] for ma in MODEL_ARCH}"
   ]
  },
  {
   "cell_type": "code",
   "execution_count": 5,
   "metadata": {},
   "outputs": [],
   "source": [
    "EXTRACTED_FILEDIR = '/scratch/jialin/image-classification-sep2022/projects/weight_analysis/extracted_source/prev_learned_param/'\n",
    "learned_features = {}\n",
    "for model_arch in MODEL_ARCH:\n",
    "    ma = model_arch[15:]\n",
    "    X, y = np.load(os.path.join(EXTRACTED_FILEDIR, f'train_X_{ma}.npy')), np.load(os.path.join(EXTRACTED_FILEDIR, f'train_y_{ma}.npy'))\n",
    "    learned_features[model_arch] = (X, y)"
   ]
  },
  {
   "cell_type": "code",
   "execution_count": 31,
   "metadata": {},
   "outputs": [
    {
     "name": "stdout",
     "output_type": "stream",
     "text": [
      "classification:resnet50 (96, 1236) (96,)\n",
      "classification:vit_base_patch32_224 (288, 1172) (288,)\n",
      "classification:mobilenet_v2 (288, 1213) (288,)\n"
     ]
    }
   ],
   "source": [
    "extracted_mixedup = '/scratch/jialin/image-classification-sep2022/projects/weight_analysis/for_container/learned_parameters'\n",
    "for ma in MODEL_ARCH:\n",
    "    X = np.load(os.path.join(extracted_mixedup, f'train_X_{ma[15:]}.npy'))\n",
    "    y = np.load(os.path.join(extracted_mixedup, f'train_y_{ma[15:]}.npy'))\n",
    "    print(ma, X.shape, y.shape)"
   ]
  },
  {
   "cell_type": "code",
   "execution_count": 8,
   "metadata": {},
   "outputs": [],
   "source": [
    "clf_dict = {MODEL_ARCH[0]: GradientBoostingClassifier(learning_rate=0.015, n_estimators=900, max_depth=3, min_samples_split=24, min_samples_leaf=16, max_features=120),\n",
    "            MODEL_ARCH[1]: GradientBoostingClassifier(learning_rate=0.01, n_estimators=750, max_depth=3, min_samples_split=40, min_samples_leaf=4, max_features=32),\n",
    "            MODEL_ARCH[2]: GradientBoostingClassifier(learning_rate=0.011, n_estimators=500, max_depth=4, min_samples_split=34, min_samples_leaf=16, max_features=96)}\n",
    "# only_weights = {ma: ind for ma, ind in list(zip(MODEL_ARCH, [-600, -600, -525]))}"
   ]
  },
  {
   "cell_type": "code",
   "execution_count": 9,
   "metadata": {},
   "outputs": [],
   "source": [
    "# LEARNED_PARAM = '/scratch/jialin/image-classification-sep2022/projects/weight_analysis/for_container/learned_parameters'\n",
    "LEARNED_PARAM = '/scratch/jialin/image-classification-sep2022/projects/weight_analysis/extracted_source/weight_eigen_stats'\n",
    "features = {}\n",
    "for model_arch in MODEL_ARCH:\n",
    "    features[model_arch] = (np.load(os.path.join(LEARNED_PARAM, f'train_X_{model_arch[15:]}.npy')), np.load(os.path.join(LEARNED_PARAM, f'train_y_{model_arch[15:]}.npy')))    "
   ]
  },
  {
   "cell_type": "code",
   "execution_count": 47,
   "metadata": {},
   "outputs": [],
   "source": [
    "import joblib\n",
    "for model_arch in MODEL_ARCH:\n",
    "    clf = clf_dict[model_arch].fit(*features[model_arch])\n",
    "    joblib.dump(clf, os.path.join(LEARNED_PARAM, f'original_{model_arch[15:]}_clf.joblib'))"
   ]
  },
  {
   "cell_type": "code",
   "execution_count": 41,
   "metadata": {},
   "outputs": [],
   "source": [
    "N = 50\n",
    "# clf = GradientBoostingClassifier(n_estimators=1000, learning_rate=0.002)\n",
    "result = []\n",
    "for ma in MODEL_ARCH:\n",
    "    result += list(bootstrap_performance(*features[ma], clf_dict[ma], n=N))\n",
    "# [0.34988044 0.862      0.38599185 0.832      0.50996589 0.76      ]"
   ]
  },
  {
   "cell_type": "code",
   "execution_count": 42,
   "metadata": {},
   "outputs": [
    {
     "data": {
      "text/html": [
       "<div>\n",
       "<style scoped>\n",
       "    .dataframe tbody tr th:only-of-type {\n",
       "        vertical-align: middle;\n",
       "    }\n",
       "\n",
       "    .dataframe tbody tr th {\n",
       "        vertical-align: top;\n",
       "    }\n",
       "\n",
       "    .dataframe thead th {\n",
       "        text-align: right;\n",
       "    }\n",
       "</style>\n",
       "<table border=\"1\" class=\"dataframe\">\n",
       "  <thead>\n",
       "    <tr style=\"text-align: right;\">\n",
       "      <th></th>\n",
       "      <th>cross_entropy</th>\n",
       "      <th>accuracy</th>\n",
       "    </tr>\n",
       "  </thead>\n",
       "  <tbody>\n",
       "    <tr>\n",
       "      <th>resnet50</th>\n",
       "      <td>0.350309</td>\n",
       "      <td>0.872</td>\n",
       "    </tr>\n",
       "    <tr>\n",
       "      <th>vit_base_patch32_224</th>\n",
       "      <td>0.390434</td>\n",
       "      <td>0.832</td>\n",
       "    </tr>\n",
       "    <tr>\n",
       "      <th>mobilenet_v2</th>\n",
       "      <td>0.495690</td>\n",
       "      <td>0.777</td>\n",
       "    </tr>\n",
       "  </tbody>\n",
       "</table>\n",
       "</div>"
      ],
      "text/plain": [
       "                      cross_entropy  accuracy\n",
       "resnet50                   0.350309     0.872\n",
       "vit_base_patch32_224       0.390434     0.832\n",
       "mobilenet_v2               0.495690     0.777"
      ]
     },
     "execution_count": 42,
     "metadata": {},
     "output_type": "execute_result"
    }
   ],
   "source": [
    "res_arr = np.mean(result, axis=1)\n",
    "res_pd = pd.DataFrame({'cross_entropy': [res_arr[i] for i in range(len(res_arr)) if i % 2 == 0],\n",
    "                        'accuracy': [res_arr[i] for i in range(len(res_arr)) if i % 2 == 1]})\n",
    "res_pd.index = [model_arch[15:] for model_arch in MODEL_ARCH]\n",
    "res_pd"
   ]
  },
  {
   "cell_type": "code",
   "execution_count": 11,
   "metadata": {},
   "outputs": [],
   "source": [
    "from sklearn.model_selection import GridSearchCV"
   ]
  },
  {
   "cell_type": "code",
   "execution_count": 14,
   "metadata": {},
   "outputs": [],
   "source": [
    "ma = MODEL_ARCH[1]\n",
    "clf = clf_dict[ma]\n",
    "# \n",
    "# param={'max_depth': range(3, 5), 'min_samples_split': range(12, 65, 4), 'min_samples_leaf': range(4, 33, 2), 'max_features': range(20, 101, 4)}\n",
    "# param = {'learning_rate':np.arange(.001, .0351, .002), 'n_estimators':range(300, 1600, 25)}\n",
    "param = {'learning_rate':[.01, .005, .015, .03, .0075], 'n_estimators':[650, 1300, 450, 225, 900]}\n",
    "# gsearch = GridSearchCV(estimator=clf, param_grid=param, scoring=['neg_log_loss', 'accuracy'], n_jobs=10, cv=5, refit=False);\n",
    "gsearch = GridSearchCV(estimator=clf, param_grid=param, scoring='neg_log_loss', n_jobs=10, cv=5);\n",
    "gsearch.fit(features[ma][0], features[ma][1]);"
   ]
  },
  {
   "cell_type": "code",
   "execution_count": 15,
   "metadata": {},
   "outputs": [
    {
     "data": {
      "text/plain": [
       "{'learning_rate': 0.0075, 'n_estimators': 1300}"
      ]
     },
     "execution_count": 15,
     "metadata": {},
     "output_type": "execute_result"
    }
   ],
   "source": [
    "gsearch.best_params_"
   ]
  },
  {
   "cell_type": "code",
   "execution_count": null,
   "metadata": {},
   "outputs": [],
   "source": [
    "gsearch = pd.DataFrame(gsearch.cv_results_).sort_values(by=['rank_test_neg_log_loss', 'rank_test_accuracy'])\n",
    "gsearch.to_csv(os.path.join(OUTPUT_FILEDIR, 'gsearch_result.csv'))"
   ]
  },
  {
   "cell_type": "markdown",
   "metadata": {},
   "source": [
    "### Generate json schema (without automatic_training param)"
   ]
  },
  {
   "cell_type": "code",
   "execution_count": null,
   "metadata": {},
   "outputs": [],
   "source": [
    "TUNABLE_PARAMS = ['learning_rate', 'n_estimators', 'max_depth', 'min_samples_split', 'min_samples_leaf', 'max_features']\n",
    "param_dict = {}\n",
    "for ma in MODEL_ARCH:\n",
    "    p_dict = {f\"{ma[15:]}_{k}\": v for k, v in clf_dict[ma].get_params().items() if k in TUNABLE_PARAMS}\n",
    "    param_dict = {**p_dict, **param_dict}\n",
    "param_dict"
   ]
  },
  {
   "cell_type": "code",
   "execution_count": null,
   "metadata": {},
   "outputs": [],
   "source": [
    "MIN_VAL, MAX_VAL = [0.001, 1, 1, 2, 1, 1], [1, 3000, 10, 1000, 1000, 1100]\n",
    "SMIN_VAL, SMAX_VAL = [0.005, 100, 2, 10, 2, 20], [0.05, 1200, 5, 50, 25, 220]\n",
    "keys = ['minimum', 'maximum', 'suggested_minimum', 'suggested_maximum']\n",
    "DESC_VAL = {}\n",
    "for key, val in zip(keys, [MIN_VAL, MAX_VAL, SMIN_VAL, SMAX_VAL]):\n",
    "    val_dict = {k:v for k, v in zip(TUNABLE_PARAMS, val)}\n",
    "    DESC_VAL[key] = val_dict\n",
    "desc_dict = {}\n",
    "for ma in MODEL_ARCH:\n",
    "    for k, v in clf_dict[ma].get_params().items():\n",
    "        baseline_desc = {}\n",
    "        if k in TUNABLE_PARAMS:\n",
    "            baseline_desc['description'] = f'Tunable parameter {k} in sklearn Gradient Boosting Classifier for model architecture {ma}'\n",
    "            baseline_desc['type'] = 'number' if k == 'learning_rate' else 'integer'\n",
    "            for key in keys:\n",
    "                baseline_desc[key] = DESC_VAL[key][k]\n",
    "            desc_dict[f'{ma[15:]}_{k}'] = baseline_desc\n",
    "\n",
    "with open(os.path.join(EXTRACTED_FILEDIR, 'json_vals.json'), 'w') as outfile:\n",
    "    json.dump(desc_dict, outfile)"
   ]
  },
  {
   "cell_type": "code",
   "execution_count": 6,
   "metadata": {},
   "outputs": [
    {
     "data": {
      "text/plain": [
       "['/scratch/jialin/image-classification-sep2022/projects/weight_analysis/src/none.joblib']"
      ]
     },
     "execution_count": 6,
     "metadata": {},
     "output_type": "execute_result"
    }
   ],
   "source": [
    "import joblib\n",
    "\n",
    "joblib.dump(None, '/scratch/jialin/image-classification-sep2022/projects/weight_analysis/src/none.joblib')"
   ]
  },
  {
   "cell_type": "code",
   "execution_count": 7,
   "metadata": {},
   "outputs": [
    {
     "ename": "AttributeError",
     "evalue": "'NoneType' object has no attribute 'predict_proba'",
     "output_type": "error",
     "traceback": [
      "\u001b[0;31m---------------------------------------------------------------------------\u001b[0m",
      "\u001b[0;31mAttributeError\u001b[0m                            Traceback (most recent call last)",
      "\u001b[1;32m/scratch/jialin/image-classification-sep2022/projects/weight_analysis/src/explore.ipynb Cell 63\u001b[0m in \u001b[0;36m<cell line: 2>\u001b[0;34m()\u001b[0m\n\u001b[1;32m      <a href='vscode-notebook-cell://ssh-remote%2Bmm340.cs.berkeley.edu/scratch/jialin/image-classification-sep2022/projects/weight_analysis/src/explore.ipynb#Y116sdnNjb2RlLXJlbW90ZQ%3D%3D?line=0'>1</a>\u001b[0m model \u001b[39m=\u001b[39m joblib\u001b[39m.\u001b[39mload(\u001b[39m'\u001b[39m\u001b[39m/scratch/jialin/image-classification-sep2022/projects/weight_analysis/src/none.joblib\u001b[39m\u001b[39m'\u001b[39m)\n\u001b[0;32m----> <a href='vscode-notebook-cell://ssh-remote%2Bmm340.cs.berkeley.edu/scratch/jialin/image-classification-sep2022/projects/weight_analysis/src/explore.ipynb#Y116sdnNjb2RlLXJlbW90ZQ%3D%3D?line=1'>2</a>\u001b[0m model\u001b[39m.\u001b[39;49mpredict_proba([[\u001b[39m1\u001b[39m, \u001b[39m2\u001b[39m, \u001b[39m3\u001b[39m]])\n",
      "\u001b[0;31mAttributeError\u001b[0m: 'NoneType' object has no attribute 'predict_proba'"
     ]
    }
   ],
   "source": [
    "model = joblib.load('/scratch/jialin/image-classification-sep2022/projects/weight_analysis/src/none.joblib')\n",
    "model.predict_proba([[1, 2, 3]])"
   ]
  }
 ],
 "metadata": {
  "kernelspec": {
   "display_name": "round_11",
   "language": "python",
   "name": "python3"
  },
  "language_info": {
   "codemirror_mode": {
    "name": "ipython",
    "version": 3
   },
   "file_extension": ".py",
   "mimetype": "text/x-python",
   "name": "python",
   "nbconvert_exporter": "python",
   "pygments_lexer": "ipython3",
   "version": "3.9.13 | packaged by conda-forge | (main, May 27 2022, 16:56:21) \n[GCC 10.3.0]"
  },
  "orig_nbformat": 4,
  "vscode": {
   "interpreter": {
    "hash": "ad6bf57addfb35bc8f1824210d16b039912c1b469f8714e7420544f1c5cc92a8"
   }
  }
 },
 "nbformat": 4,
 "nbformat_minor": 2
}
